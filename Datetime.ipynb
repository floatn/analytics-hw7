{
 "cells": [
  {
   "cell_type": "code",
   "execution_count": 30,
   "id": "a2f0d1c0-b3d8-4cd7-8f44-03e1d794d885",
   "metadata": {},
   "outputs": [
    {
     "name": "stdout",
     "output_type": "stream",
     "text": [
      "Указанный формат даты не поддерживается: '%A, %B %-d, %Y'\n",
      "Friday, 11.10.13 >>> 2013-10-11 00:00:00\n",
      "Thursday, 18 August 1977 >>> 1977-08-18 00:00:00\n"
     ]
    }
   ],
   "source": [
    "#task1\n",
    "from datetime import datetime\n",
    "\n",
    "#названия газет с примерами дат\n",
    "NPDATES = {\n",
    "    'The Moscow Times': 'Wednesday, October 2, 2002',\n",
    "    'The Guardian': 'Friday, 11.10.13',\n",
    "    'Daily News': 'Thursday, 18 August 1977',\n",
    "}\n",
    "#коды форматирования дат для strpdate\n",
    "DATE_FORMATS = {\n",
    "    'Wednesday, October 2, 2002': '%A, %B %-d, %Y',\n",
    "    'Friday, 11.10.13': '%A, %d.%m.%y',\n",
    "    'Thursday, 18 August 1977': '%A, %d %B %Y',\n",
    "}\n",
    "\n",
    "for date, dformat in DATE_FORMATS.items():\n",
    "    try:\n",
    "        print(f'{date} >>> {datetime.strptime(date, dformat)}')\n",
    "    except ValueError:\n",
    "        print(f'Указанный формат даты не поддерживается: {repr(dformat)}')"
   ]
  },
  {
   "cell_type": "code",
   "execution_count": 31,
   "id": "b9fcf843-5462-49e3-a5b7-3cfbe3af1ae6",
   "metadata": {},
   "outputs": [],
   "source": [
    "#task2\n",
    "from datetime import datetime, timedelta\n",
    "\n",
    "#формат дат для функции date_range\n",
    "DATE_RANGE_FORMAT = '%Y-%m-%d'\n",
    "\n",
    "def date_range(date1, date2):\n",
    "    \"\"\"\n",
    "    Возвращает список дат в интервале между заданными датами.\n",
    "    В случае неверного формата или неверного порядка дат возвращает пустой список. \n",
    "    \"\"\"\n",
    "    \n",
    "    try:\n",
    "        dt1 = datetime.strptime(date1, DATE_RANGE_FORMAT)\n",
    "        dt2 = datetime.strptime(date2, DATE_RANGE_FORMAT)\n",
    "        if dt2 < dt1: raise Exception('Первая дата позднее второй')\n",
    "    except:\n",
    "        print('Ошибка задания исходных дат')\n",
    "        return []\n",
    "    date_list = list() \n",
    "    for i in range((dt2 - dt1).days + 1): #цикл по дням между датами\n",
    "        date_list.append(datetime.strftime(dt1 + timedelta(days=i), DATE_RANGE_FORMAT))\n",
    "    return date_list"
   ]
  },
  {
   "cell_type": "code",
   "execution_count": 32,
   "id": "4573c67c-afe1-4617-b2f2-8dc56eb34a03",
   "metadata": {},
   "outputs": [
    {
     "data": {
      "text/plain": [
       "['2022-01-01', '2022-01-02', '2022-01-03']"
      ]
     },
     "execution_count": 32,
     "metadata": {},
     "output_type": "execute_result"
    }
   ],
   "source": [
    "date_range('2022-01-01', '2022-01-03')"
   ]
  }
 ],
 "metadata": {
  "kernelspec": {
   "display_name": "Python 3 (ipykernel)",
   "language": "python",
   "name": "python3"
  },
  "language_info": {
   "codemirror_mode": {
    "name": "ipython",
    "version": 3
   },
   "file_extension": ".py",
   "mimetype": "text/x-python",
   "name": "python",
   "nbconvert_exporter": "python",
   "pygments_lexer": "ipython3",
   "version": "3.12.7"
  }
 },
 "nbformat": 4,
 "nbformat_minor": 5
}
